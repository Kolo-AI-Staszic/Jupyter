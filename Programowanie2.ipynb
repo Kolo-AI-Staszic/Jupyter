{
 "cells": [
  {
   "cell_type": "code",
   "execution_count": 16,
   "metadata": {},
   "outputs": [
    {
     "name": "stdout",
     "output_type": "stream",
     "text": [
      "Requirement already satisfied: xgboost in /home/kknopp/env/lib/python3.7/site-packages (0.90)\n",
      "Requirement already satisfied: numpy in /home/kknopp/env/lib/python3.7/site-packages (from xgboost) (1.17.2)\n",
      "Requirement already satisfied: scipy in /home/kknopp/env/lib/python3.7/site-packages (from xgboost) (1.3.1)\n",
      "Requirement already satisfied: scikit-learn in /home/kknopp/env/lib/python3.7/site-packages (0.21.3)\n",
      "Requirement already satisfied: joblib>=0.11 in /home/kknopp/env/lib/python3.7/site-packages (from scikit-learn) (0.14.0)\n",
      "Requirement already satisfied: scipy>=0.17.0 in /home/kknopp/env/lib/python3.7/site-packages (from scikit-learn) (1.3.1)\n",
      "Requirement already satisfied: numpy>=1.11.0 in /home/kknopp/env/lib/python3.7/site-packages (from scikit-learn) (1.17.2)\n",
      "Collecting pandas\n",
      "  Using cached https://files.pythonhosted.org/packages/7e/ab/ea76361f9d3e732e114adcd801d2820d5319c23d0ac5482fa3b412db217e/pandas-0.25.1-cp37-cp37m-manylinux1_x86_64.whl\n",
      "Requirement already satisfied: python-dateutil>=2.6.1 in /home/kknopp/env/lib/python3.7/site-packages (from pandas) (2.8.0)\n",
      "Requirement already satisfied: numpy>=1.13.3 in /home/kknopp/env/lib/python3.7/site-packages (from pandas) (1.17.2)\n",
      "Collecting pytz>=2017.2 (from pandas)\n",
      "\u001b[?25l  Downloading https://files.pythonhosted.org/packages/e7/f9/f0b53f88060247251bf481fa6ea62cd0d25bf1b11a87888e53ce5b7c8ad2/pytz-2019.3-py2.py3-none-any.whl (509kB)\n",
      "\u001b[K    100% |████████████████████████████████| 512kB 136kB/s ta 0:00:01\n",
      "\u001b[?25hRequirement already satisfied: six>=1.5 in /home/kknopp/env/lib/python3.7/site-packages (from python-dateutil>=2.6.1->pandas) (1.12.0)\n",
      "Installing collected packages: pytz, pandas\n",
      "Successfully installed pandas-0.25.1 pytz-2019.3\n"
     ]
    }
   ],
   "source": [
    "!pip3 install xgboost\n",
    "!pip3 install scikit-learn\n",
    "!pip3 install pandas"
   ]
  },
  {
   "cell_type": "code",
   "execution_count": 5,
   "metadata": {},
   "outputs": [
    {
     "name": "stderr",
     "output_type": "stream",
     "text": [
      "/home/kknopp/env/lib/python3.7/site-packages/sklearn/ensemble/forest.py:245: FutureWarning: The default value of n_estimators will change from 10 in version 0.20 to 100 in 0.22.\n",
      "  \"10 in version 0.20 to 100 in 0.22.\", FutureWarning)\n"
     ]
    },
    {
     "data": {
      "text/plain": [
       "RandomForestClassifier(bootstrap=True, class_weight=None, criterion='gini',\n",
       "                       max_depth=None, max_features='auto', max_leaf_nodes=None,\n",
       "                       min_impurity_decrease=0.0, min_impurity_split=None,\n",
       "                       min_samples_leaf=1, min_samples_split=2,\n",
       "                       min_weight_fraction_leaf=0.0, n_estimators=10,\n",
       "                       n_jobs=None, oob_score=False, random_state=None,\n",
       "                       verbose=0, warm_start=False)"
      ]
     },
     "execution_count": 5,
     "metadata": {},
     "output_type": "execute_result"
    }
   ],
   "source": [
    "from sklearn.ensemble import RandomForestClassifier\n",
    "import pandas as pd\n",
    "\n",
    "modelrf = RandomForestClassifier()\n",
    "liczby = pd.read_csv(\"liczby.csv\")\n",
    "predliczby = pd.read_csv(\"liczbypred.csv\")\n",
    "\n",
    "L=liczby[\"liczba\"].to_numpy()\n",
    "L=L.reshape(-1,1)\n",
    "w=liczby[\"wynik\"]\n",
    "\n",
    "modelrf.fit(L,w)"
   ]
  },
  {
   "cell_type": "code",
   "execution_count": 7,
   "metadata": {},
   "outputs": [],
   "source": [
    "lpredictions=modelrf.predict(predliczby)\n",
    "lpreds = pd.DataFrame(lpredictions)\n",
    "lpreds.to_csv(\"liczbyodp.csv\", index=False)"
   ]
  },
  {
   "cell_type": "code",
   "execution_count": 13,
   "metadata": {},
   "outputs": [],
   "source": [
    "from sklearn.tree import DecisionTreeRegressor"
   ]
  },
  {
   "cell_type": "code",
   "execution_count": 14,
   "metadata": {},
   "outputs": [],
   "source": [
    "model=DecisionTreeRegressor()"
   ]
  },
  {
   "cell_type": "code",
   "execution_count": 43,
   "metadata": {},
   "outputs": [],
   "source": [
    "import pandas as pd\n",
    "\n",
    "data=pd.read_csv(\"housestrain.csv\")\n",
    "\n",
    "predict=pd.read_csv(\"train.csv\")\n",
    "\n",
    "descriptors=['LotArea', 'PoolArea', 'YrSold']\n",
    "\n",
    "X=data[descriptors]\n",
    "y=data.SalePrice\n",
    "\n",
    "predict_X=predict[descriptors]\n",
    "\n",
    "model.fit(X,y)\n",
    "preds=model.predict(predict_X)\n",
    "sub = pd.DataFrame(preds)\n",
    "sub.to_csv(\"submission.csv\", index=False)"
   ]
  },
  {
   "cell_type": "code",
   "execution_count": null,
   "metadata": {},
   "outputs": [],
   "source": []
  }
 ],
 "metadata": {
  "kernelspec": {
   "display_name": "Python 3",
   "language": "python",
   "name": "python3"
  },
  "language_info": {
   "codemirror_mode": {
    "name": "ipython",
    "version": 3
   },
   "file_extension": ".py",
   "mimetype": "text/x-python",
   "name": "python",
   "nbconvert_exporter": "python",
   "pygments_lexer": "ipython3",
   "version": "3.7.3"
  }
 },
 "nbformat": 4,
 "nbformat_minor": 2
}
